{
 "cells": [
  {
   "cell_type": "markdown",
   "metadata": {},
   "source": [
    "# Most Consistent Hitters In The Last 30 Years."
   ]
  },
  {
   "cell_type": "code",
   "execution_count": 1,
   "metadata": {
    "collapsed": false
   },
   "outputs": [],
   "source": [
    "# Things we'll need.\n",
    "import pandas as pd\n",
    "import numpy as np\n",
    "import sqlite3 as sql\n",
    "%matplotlib inline\n",
    "import matplotlib.pyplot as plt\n",
    "from pylab import rcParams\n",
    "rcParams['figure.figsize'] = 15, 5"
   ]
  },
  {
   "cell_type": "code",
   "execution_count": 2,
   "metadata": {
    "collapsed": true
   },
   "outputs": [],
   "source": [
    "# Defining our connector the the database\n",
    "conn = sql.connect('database.sqlite')\n",
    "c = conn.cursor()"
   ]
  },
  {
   "cell_type": "markdown",
   "metadata": {},
   "source": [
    "# Player Information"
   ]
  },
  {
   "cell_type": "code",
   "execution_count": 3,
   "metadata": {
    "collapsed": false
   },
   "outputs": [
    {
     "data": {
      "text/html": [
       "<div>\n",
       "<table border=\"1\" class=\"dataframe\">\n",
       "  <thead>\n",
       "    <tr style=\"text-align: right;\">\n",
       "      <th></th>\n",
       "      <th>player_id</th>\n",
       "      <th>name_first</th>\n",
       "      <th>name_last</th>\n",
       "      <th>debut</th>\n",
       "      <th>final_game</th>\n",
       "    </tr>\n",
       "  </thead>\n",
       "  <tbody>\n",
       "    <tr>\n",
       "      <th>0</th>\n",
       "      <td>aardsda01</td>\n",
       "      <td>David</td>\n",
       "      <td>Aardsma</td>\n",
       "      <td>2004-04-06</td>\n",
       "      <td>2015-08-23</td>\n",
       "    </tr>\n",
       "    <tr>\n",
       "      <th>1</th>\n",
       "      <td>aaronha01</td>\n",
       "      <td>Hank</td>\n",
       "      <td>Aaron</td>\n",
       "      <td>1954-04-13</td>\n",
       "      <td>1976-10-03</td>\n",
       "    </tr>\n",
       "    <tr>\n",
       "      <th>2</th>\n",
       "      <td>aaronto01</td>\n",
       "      <td>Tommie</td>\n",
       "      <td>Aaron</td>\n",
       "      <td>1962-04-10</td>\n",
       "      <td>1971-09-26</td>\n",
       "    </tr>\n",
       "    <tr>\n",
       "      <th>3</th>\n",
       "      <td>aasedo01</td>\n",
       "      <td>Don</td>\n",
       "      <td>Aase</td>\n",
       "      <td>1977-07-26</td>\n",
       "      <td>1990-10-03</td>\n",
       "    </tr>\n",
       "    <tr>\n",
       "      <th>4</th>\n",
       "      <td>abadan01</td>\n",
       "      <td>Andy</td>\n",
       "      <td>Abad</td>\n",
       "      <td>2001-09-10</td>\n",
       "      <td>2006-04-13</td>\n",
       "    </tr>\n",
       "  </tbody>\n",
       "</table>\n",
       "</div>"
      ],
      "text/plain": [
       "   player_id name_first name_last       debut  final_game\n",
       "0  aardsda01      David   Aardsma  2004-04-06  2015-08-23\n",
       "1  aaronha01       Hank     Aaron  1954-04-13  1976-10-03\n",
       "2  aaronto01     Tommie     Aaron  1962-04-10  1971-09-26\n",
       "3   aasedo01        Don      Aase  1977-07-26  1990-10-03\n",
       "4   abadan01       Andy      Abad  2001-09-10  2006-04-13"
      ]
     },
     "execution_count": 3,
     "metadata": {},
     "output_type": "execute_result"
    }
   ],
   "source": [
    "PlayerInfo = pd.DataFrame(list(c.execute('''select player_id, name_first, \n",
    "                                             name_last, debut, final_game from player''')))\n",
    "names = list(map(lambda x: x[0], c.description))\n",
    "PlayerInfo.columns = names\n",
    "PlayerInfo.head()"
   ]
  },
  {
   "cell_type": "markdown",
   "metadata": {},
   "source": [
    "# Batting average by season per player"
   ]
  },
  {
   "cell_type": "code",
   "execution_count": 4,
   "metadata": {
    "collapsed": false
   },
   "outputs": [
    {
     "data": {
      "text/html": [
       "<div>\n",
       "<table border=\"1\" class=\"dataframe\">\n",
       "  <thead>\n",
       "    <tr style=\"text-align: right;\">\n",
       "      <th></th>\n",
       "      <th>player_id</th>\n",
       "      <th>year</th>\n",
       "      <th>batting_percentage</th>\n",
       "    </tr>\n",
       "  </thead>\n",
       "  <tbody>\n",
       "    <tr>\n",
       "      <th>0</th>\n",
       "      <td>abercda01</td>\n",
       "      <td>1871</td>\n",
       "      <td>0.000000</td>\n",
       "    </tr>\n",
       "    <tr>\n",
       "      <th>1</th>\n",
       "      <td>addybo01</td>\n",
       "      <td>1871</td>\n",
       "      <td>0.271186</td>\n",
       "    </tr>\n",
       "    <tr>\n",
       "      <th>2</th>\n",
       "      <td>allisar01</td>\n",
       "      <td>1871</td>\n",
       "      <td>0.291971</td>\n",
       "    </tr>\n",
       "    <tr>\n",
       "      <th>3</th>\n",
       "      <td>allisdo01</td>\n",
       "      <td>1871</td>\n",
       "      <td>0.330827</td>\n",
       "    </tr>\n",
       "    <tr>\n",
       "      <th>4</th>\n",
       "      <td>ansonca01</td>\n",
       "      <td>1871</td>\n",
       "      <td>0.325000</td>\n",
       "    </tr>\n",
       "  </tbody>\n",
       "</table>\n",
       "</div>"
      ],
      "text/plain": [
       "   player_id  year  batting_percentage\n",
       "0  abercda01  1871            0.000000\n",
       "1   addybo01  1871            0.271186\n",
       "2  allisar01  1871            0.291971\n",
       "3  allisdo01  1871            0.330827\n",
       "4  ansonca01  1871            0.325000"
      ]
     },
     "execution_count": 4,
     "metadata": {},
     "output_type": "execute_result"
    }
   ],
   "source": [
    "PBY = pd.DataFrame(list(c.execute('''select player_id, year, \n",
    "                                     1.*h/(ab-ibb-hbp) as batting_percentage \n",
    "                                     from batting group by year, player_id''')))\n",
    "names = list(map(lambda x: x[0], c.description))\n",
    "PBY.columns = names\n",
    "PBY.head()"
   ]
  },
  {
   "cell_type": "markdown",
   "metadata": {},
   "source": [
    "# Average batting average per season"
   ]
  },
  {
   "cell_type": "code",
   "execution_count": 5,
   "metadata": {
    "collapsed": false
   },
   "outputs": [
    {
     "data": {
      "text/html": [
       "<div>\n",
       "<table border=\"1\" class=\"dataframe\">\n",
       "  <thead>\n",
       "    <tr style=\"text-align: right;\">\n",
       "      <th></th>\n",
       "      <th>player_id</th>\n",
       "      <th>career_batting_percentage</th>\n",
       "      <th>career_batting_std</th>\n",
       "    </tr>\n",
       "  </thead>\n",
       "  <tbody>\n",
       "    <tr>\n",
       "      <th>0</th>\n",
       "      <td>aardsda01</td>\n",
       "      <td>0.000000</td>\n",
       "      <td>0.000000</td>\n",
       "    </tr>\n",
       "    <tr>\n",
       "      <th>1</th>\n",
       "      <td>aaronha01</td>\n",
       "      <td>0.309195</td>\n",
       "      <td>0.033387</td>\n",
       "    </tr>\n",
       "    <tr>\n",
       "      <th>2</th>\n",
       "      <td>aaronto01</td>\n",
       "      <td>0.221619</td>\n",
       "      <td>0.023463</td>\n",
       "    </tr>\n",
       "    <tr>\n",
       "      <th>3</th>\n",
       "      <td>aasedo01</td>\n",
       "      <td>0.000000</td>\n",
       "      <td>NaN</td>\n",
       "    </tr>\n",
       "    <tr>\n",
       "      <th>4</th>\n",
       "      <td>abadan01</td>\n",
       "      <td>0.039216</td>\n",
       "      <td>0.067924</td>\n",
       "    </tr>\n",
       "  </tbody>\n",
       "</table>\n",
       "</div>"
      ],
      "text/plain": [
       "   player_id  career_batting_percentage  career_batting_std\n",
       "0  aardsda01                   0.000000            0.000000\n",
       "1  aaronha01                   0.309195            0.033387\n",
       "2  aaronto01                   0.221619            0.023463\n",
       "3   aasedo01                   0.000000                 NaN\n",
       "4   abadan01                   0.039216            0.067924"
      ]
     },
     "execution_count": 5,
     "metadata": {},
     "output_type": "execute_result"
    }
   ],
   "source": [
    "Career = PBY.groupby('player_id')['batting_percentage'].agg([np.mean, np.std]).reset_index()\n",
    "Career.columns = [['player_id', 'career_batting_percentage', 'career_batting_std']]\n",
    "Career.head()"
   ]
  },
  {
   "cell_type": "markdown",
   "metadata": {},
   "source": [
    "# Numbers of years Actively playing"
   ]
  },
  {
   "cell_type": "code",
   "execution_count": 6,
   "metadata": {
    "collapsed": false
   },
   "outputs": [],
   "source": [
    "YearsActive = PBY.groupby('player_id')['year'].count().reset_index()\n",
    "YearsActive.columns = ['player_id', 'years_active']\n",
    "YearsActive = YearsActive[YearsActive['years_active'] >= 4]"
   ]
  },
  {
   "cell_type": "markdown",
   "metadata": {},
   "source": [
    "## The average baseball player plays for 4.5 years so lets focus on those who played more than 4 years."
   ]
  },
  {
   "cell_type": "markdown",
   "metadata": {},
   "source": [
    "# Let's take a quick look at who had the longest career."
   ]
  },
  {
   "cell_type": "code",
   "execution_count": 7,
   "metadata": {
    "collapsed": false
   },
   "outputs": [
    {
     "data": {
      "text/html": [
       "<div>\n",
       "<table border=\"1\" class=\"dataframe\">\n",
       "  <thead>\n",
       "    <tr style=\"text-align: right;\">\n",
       "      <th></th>\n",
       "      <th>player_id</th>\n",
       "      <th>years_active</th>\n",
       "      <th>name_first</th>\n",
       "      <th>name_last</th>\n",
       "      <th>debut</th>\n",
       "      <th>final_game</th>\n",
       "    </tr>\n",
       "  </thead>\n",
       "  <tbody>\n",
       "    <tr>\n",
       "      <th>0</th>\n",
       "      <td>ryanno01</td>\n",
       "      <td>27</td>\n",
       "      <td>Nolan</td>\n",
       "      <td>Ryan</td>\n",
       "      <td>1966-09-11</td>\n",
       "      <td>1993-09-22</td>\n",
       "    </tr>\n",
       "    <tr>\n",
       "      <th>1</th>\n",
       "      <td>ansonca01</td>\n",
       "      <td>27</td>\n",
       "      <td>Cap</td>\n",
       "      <td>Anson</td>\n",
       "      <td>1871-05-06</td>\n",
       "      <td>1897-10-03</td>\n",
       "    </tr>\n",
       "    <tr>\n",
       "      <th>2</th>\n",
       "      <td>johnto01</td>\n",
       "      <td>26</td>\n",
       "      <td>Tommy</td>\n",
       "      <td>John</td>\n",
       "      <td>1963-09-06</td>\n",
       "      <td>1989-05-25</td>\n",
       "    </tr>\n",
       "    <tr>\n",
       "      <th>3</th>\n",
       "      <td>mcguide01</td>\n",
       "      <td>26</td>\n",
       "      <td>Deacon</td>\n",
       "      <td>McGuire</td>\n",
       "      <td>1884-06-21</td>\n",
       "      <td>1912-05-18</td>\n",
       "    </tr>\n",
       "    <tr>\n",
       "      <th>4</th>\n",
       "      <td>wallabo01</td>\n",
       "      <td>25</td>\n",
       "      <td>Bobby</td>\n",
       "      <td>Wallace</td>\n",
       "      <td>1894-09-15</td>\n",
       "      <td>1918-09-02</td>\n",
       "    </tr>\n",
       "    <tr>\n",
       "      <th>5</th>\n",
       "      <td>henderi01</td>\n",
       "      <td>25</td>\n",
       "      <td>Rickey</td>\n",
       "      <td>Henderson</td>\n",
       "      <td>1979-06-24</td>\n",
       "      <td>2003-09-19</td>\n",
       "    </tr>\n",
       "    <tr>\n",
       "      <th>6</th>\n",
       "      <td>houghch01</td>\n",
       "      <td>25</td>\n",
       "      <td>Charlie</td>\n",
       "      <td>Hough</td>\n",
       "      <td>1970-08-12</td>\n",
       "      <td>1994-07-26</td>\n",
       "    </tr>\n",
       "    <tr>\n",
       "      <th>7</th>\n",
       "      <td>kaatji01</td>\n",
       "      <td>25</td>\n",
       "      <td>Jim</td>\n",
       "      <td>Kaat</td>\n",
       "      <td>1959-08-02</td>\n",
       "      <td>1983-07-01</td>\n",
       "    </tr>\n",
       "    <tr>\n",
       "      <th>8</th>\n",
       "      <td>collied01</td>\n",
       "      <td>25</td>\n",
       "      <td>Eddie</td>\n",
       "      <td>Collins</td>\n",
       "      <td>1906-09-17</td>\n",
       "      <td>1930-08-05</td>\n",
       "    </tr>\n",
       "    <tr>\n",
       "      <th>9</th>\n",
       "      <td>moyerja01</td>\n",
       "      <td>25</td>\n",
       "      <td>Jamie</td>\n",
       "      <td>Moyer</td>\n",
       "      <td>1986-06-16</td>\n",
       "      <td>2012-05-27</td>\n",
       "    </tr>\n",
       "  </tbody>\n",
       "</table>\n",
       "</div>"
      ],
      "text/plain": [
       "   player_id  years_active name_first  name_last       debut  final_game\n",
       "0   ryanno01            27      Nolan       Ryan  1966-09-11  1993-09-22\n",
       "1  ansonca01            27        Cap      Anson  1871-05-06  1897-10-03\n",
       "2   johnto01            26      Tommy       John  1963-09-06  1989-05-25\n",
       "3  mcguide01            26     Deacon    McGuire  1884-06-21  1912-05-18\n",
       "4  wallabo01            25      Bobby    Wallace  1894-09-15  1918-09-02\n",
       "5  henderi01            25     Rickey  Henderson  1979-06-24  2003-09-19\n",
       "6  houghch01            25    Charlie      Hough  1970-08-12  1994-07-26\n",
       "7   kaatji01            25        Jim       Kaat  1959-08-02  1983-07-01\n",
       "8  collied01            25      Eddie    Collins  1906-09-17  1930-08-05\n",
       "9  moyerja01            25      Jamie      Moyer  1986-06-16  2012-05-27"
      ]
     },
     "execution_count": 7,
     "metadata": {},
     "output_type": "execute_result"
    }
   ],
   "source": [
    "YearsActive.sort_values('years_active', ascending=False).head(10).merge(PlayerInfo, how='left', on='player_id')"
   ]
  },
  {
   "cell_type": "markdown",
   "metadata": {},
   "source": [
    "# Number of Seasons with a batting average of .3 or more"
   ]
  },
  {
   "cell_type": "code",
   "execution_count": 8,
   "metadata": {
    "collapsed": false
   },
   "outputs": [],
   "source": [
    "GreatYears = PBY[PBY['batting_percentage'] >= .3].groupby('player_id')['batting_percentage'].count().reset_index()\n",
    "GreatYears.columns = ['player_id', 'great_years_amount']"
   ]
  },
  {
   "cell_type": "code",
   "execution_count": 9,
   "metadata": {
    "collapsed": false
   },
   "outputs": [
    {
     "data": {
      "text/html": [
       "<div>\n",
       "<table border=\"1\" class=\"dataframe\">\n",
       "  <thead>\n",
       "    <tr style=\"text-align: right;\">\n",
       "      <th></th>\n",
       "      <th>player_id</th>\n",
       "      <th>great_years_amount</th>\n",
       "      <th>name_first</th>\n",
       "      <th>name_last</th>\n",
       "      <th>debut</th>\n",
       "      <th>final_game</th>\n",
       "    </tr>\n",
       "  </thead>\n",
       "  <tbody>\n",
       "    <tr>\n",
       "      <th>0</th>\n",
       "      <td>ansonca01</td>\n",
       "      <td>24</td>\n",
       "      <td>Cap</td>\n",
       "      <td>Anson</td>\n",
       "      <td>1871-05-06</td>\n",
       "      <td>1897-10-03</td>\n",
       "    </tr>\n",
       "    <tr>\n",
       "      <th>1</th>\n",
       "      <td>cobbty01</td>\n",
       "      <td>23</td>\n",
       "      <td>Ty</td>\n",
       "      <td>Cobb</td>\n",
       "      <td>1905-08-30</td>\n",
       "      <td>1928-09-11</td>\n",
       "    </tr>\n",
       "    <tr>\n",
       "      <th>2</th>\n",
       "      <td>collied01</td>\n",
       "      <td>20</td>\n",
       "      <td>Eddie</td>\n",
       "      <td>Collins</td>\n",
       "      <td>1906-09-17</td>\n",
       "      <td>1930-08-05</td>\n",
       "    </tr>\n",
       "  </tbody>\n",
       "</table>\n",
       "</div>"
      ],
      "text/plain": [
       "   player_id  great_years_amount name_first name_last       debut  final_game\n",
       "0  ansonca01                  24        Cap     Anson  1871-05-06  1897-10-03\n",
       "1   cobbty01                  23         Ty      Cobb  1905-08-30  1928-09-11\n",
       "2  collied01                  20      Eddie   Collins  1906-09-17  1930-08-05"
      ]
     },
     "execution_count": 9,
     "metadata": {},
     "output_type": "execute_result"
    }
   ],
   "source": [
    "GreatYears.sort_values('great_years_amount', ascending=False).head(3).merge(PlayerInfo, how='left', on='player_id')"
   ]
  },
  {
   "cell_type": "markdown",
   "metadata": {},
   "source": [
    "# These are the players with more than 20 good seasons."
   ]
  },
  {
   "cell_type": "markdown",
   "metadata": {},
   "source": [
    "## Joining previous tables"
   ]
  },
  {
   "cell_type": "code",
   "execution_count": 10,
   "metadata": {
    "collapsed": false
   },
   "outputs": [],
   "source": [
    "Stats = GreatYears.merge(YearsActive, how='left', on='player_id')\n",
    "Stats['percent_of_greatness'] = Stats['great_years_amount']/Stats['years_active']"
   ]
  },
  {
   "cell_type": "code",
   "execution_count": 11,
   "metadata": {
    "collapsed": false
   },
   "outputs": [],
   "source": [
    "Stats = Stats.merge(Career, how='left', on='player_id')"
   ]
  },
  {
   "cell_type": "code",
   "execution_count": 12,
   "metadata": {
    "collapsed": false
   },
   "outputs": [],
   "source": [
    "data = Stats.merge(PlayerInfo, how='left', on='player_id')"
   ]
  },
  {
   "cell_type": "code",
   "execution_count": 14,
   "metadata": {
    "collapsed": false
   },
   "outputs": [],
   "source": [
    "data = data[['name_first', 'name_last','debut', 'percent_of_greatness',\n",
    "             'final_game','great_years_amount', 'years_active',\n",
    "             'career_batting_percentage', 'career_batting_std']]"
   ]
  },
  {
   "cell_type": "markdown",
   "metadata": {},
   "source": [
    "# What are the top ten players with the most consistently great batting average?"
   ]
  },
  {
   "cell_type": "code",
   "execution_count": 15,
   "metadata": {
    "collapsed": false
   },
   "outputs": [],
   "source": [
    "data = data[data['debut'] >= '1984-01-01'].sort_values('percent_of_greatness', ascending=False)"
   ]
  },
  {
   "cell_type": "code",
   "execution_count": 25,
   "metadata": {
    "collapsed": false
   },
   "outputs": [
    {
     "data": {
      "text/html": [
       "<div>\n",
       "<table border=\"1\" class=\"dataframe\">\n",
       "  <thead>\n",
       "    <tr style=\"text-align: right;\">\n",
       "      <th></th>\n",
       "      <th>name_first</th>\n",
       "      <th>name_last</th>\n",
       "      <th>debut</th>\n",
       "      <th>percent_of_greatness</th>\n",
       "      <th>final_game</th>\n",
       "      <th>great_years_amount</th>\n",
       "      <th>years_active</th>\n",
       "      <th>career_batting_percentage</th>\n",
       "      <th>career_batting_std</th>\n",
       "    </tr>\n",
       "  </thead>\n",
       "  <tbody>\n",
       "    <tr>\n",
       "      <th>3007</th>\n",
       "      <td>John</td>\n",
       "      <td>Kruk</td>\n",
       "      <td>1986-04-07</td>\n",
       "      <td>0.900000</td>\n",
       "      <td>1995-07-30</td>\n",
       "      <td>9</td>\n",
       "      <td>10.0</td>\n",
       "      <td>0.308694</td>\n",
       "      <td>0.023870</td>\n",
       "    </tr>\n",
       "    <tr>\n",
       "      <th>5656</th>\n",
       "      <td>Joey</td>\n",
       "      <td>Votto</td>\n",
       "      <td>2007-09-04</td>\n",
       "      <td>0.888889</td>\n",
       "      <td>2015-10-04</td>\n",
       "      <td>8</td>\n",
       "      <td>9.0</td>\n",
       "      <td>0.319346</td>\n",
       "      <td>0.026748</td>\n",
       "    </tr>\n",
       "    <tr>\n",
       "      <th>2127</th>\n",
       "      <td>Vladimir</td>\n",
       "      <td>Guerrero</td>\n",
       "      <td>1996-09-19</td>\n",
       "      <td>0.875000</td>\n",
       "      <td>2011-09-28</td>\n",
       "      <td>14</td>\n",
       "      <td>16.0</td>\n",
       "      <td>0.322487</td>\n",
       "      <td>0.042367</td>\n",
       "    </tr>\n",
       "    <tr>\n",
       "      <th>4423</th>\n",
       "      <td>Kirby</td>\n",
       "      <td>Puckett</td>\n",
       "      <td>1984-05-08</td>\n",
       "      <td>0.833333</td>\n",
       "      <td>1995-09-28</td>\n",
       "      <td>10</td>\n",
       "      <td>12.0</td>\n",
       "      <td>0.324110</td>\n",
       "      <td>0.021004</td>\n",
       "    </tr>\n",
       "    <tr>\n",
       "      <th>2072</th>\n",
       "      <td>Mike</td>\n",
       "      <td>Greenwell</td>\n",
       "      <td>1985-09-05</td>\n",
       "      <td>0.833333</td>\n",
       "      <td>1996-09-28</td>\n",
       "      <td>10</td>\n",
       "      <td>12.0</td>\n",
       "      <td>0.307466</td>\n",
       "      <td>0.028342</td>\n",
       "    </tr>\n",
       "    <tr>\n",
       "      <th>4099</th>\n",
       "      <td>Magglio</td>\n",
       "      <td>Ordonez</td>\n",
       "      <td>1997-08-29</td>\n",
       "      <td>0.800000</td>\n",
       "      <td>2011-09-27</td>\n",
       "      <td>12</td>\n",
       "      <td>15.0</td>\n",
       "      <td>0.310031</td>\n",
       "      <td>0.023614</td>\n",
       "    </tr>\n",
       "    <tr>\n",
       "      <th>4477</th>\n",
       "      <td>Manny</td>\n",
       "      <td>Ramirez</td>\n",
       "      <td>1993-09-02</td>\n",
       "      <td>0.789474</td>\n",
       "      <td>2011-04-06</td>\n",
       "      <td>15</td>\n",
       "      <td>19.0</td>\n",
       "      <td>0.306233</td>\n",
       "      <td>0.078929</td>\n",
       "    </tr>\n",
       "    <tr>\n",
       "      <th>488</th>\n",
       "      <td>Barry</td>\n",
       "      <td>Bonds</td>\n",
       "      <td>1986-05-30</td>\n",
       "      <td>0.772727</td>\n",
       "      <td>2007-09-26</td>\n",
       "      <td>17</td>\n",
       "      <td>22.0</td>\n",
       "      <td>0.331599</td>\n",
       "      <td>0.070262</td>\n",
       "    </tr>\n",
       "    <tr>\n",
       "      <th>765</th>\n",
       "      <td>Miguel</td>\n",
       "      <td>Cabrera</td>\n",
       "      <td>2003-06-20</td>\n",
       "      <td>0.769231</td>\n",
       "      <td>2015-10-03</td>\n",
       "      <td>10</td>\n",
       "      <td>13.0</td>\n",
       "      <td>0.332084</td>\n",
       "      <td>0.028398</td>\n",
       "    </tr>\n",
       "    <tr>\n",
       "      <th>3473</th>\n",
       "      <td>Joe</td>\n",
       "      <td>Mauer</td>\n",
       "      <td>2004-04-05</td>\n",
       "      <td>0.750000</td>\n",
       "      <td>2015-10-03</td>\n",
       "      <td>9</td>\n",
       "      <td>12.0</td>\n",
       "      <td>0.319787</td>\n",
       "      <td>0.030910</td>\n",
       "    </tr>\n",
       "    <tr>\n",
       "      <th>2494</th>\n",
       "      <td>Matt</td>\n",
       "      <td>Holliday</td>\n",
       "      <td>2004-04-16</td>\n",
       "      <td>0.750000</td>\n",
       "      <td>2015-10-04</td>\n",
       "      <td>9</td>\n",
       "      <td>12.0</td>\n",
       "      <td>0.316610</td>\n",
       "      <td>0.024958</td>\n",
       "    </tr>\n",
       "    <tr>\n",
       "      <th>4391</th>\n",
       "      <td>Dante</td>\n",
       "      <td>Powell</td>\n",
       "      <td>1997-04-15</td>\n",
       "      <td>0.750000</td>\n",
       "      <td>2001-10-07</td>\n",
       "      <td>3</td>\n",
       "      <td>4.0</td>\n",
       "      <td>0.325256</td>\n",
       "      <td>0.139306</td>\n",
       "    </tr>\n",
       "    <tr>\n",
       "      <th>5336</th>\n",
       "      <td>Ichiro</td>\n",
       "      <td>Suzuki</td>\n",
       "      <td>2001-04-02</td>\n",
       "      <td>0.733333</td>\n",
       "      <td>2015-10-04</td>\n",
       "      <td>11</td>\n",
       "      <td>15.0</td>\n",
       "      <td>0.319581</td>\n",
       "      <td>0.041442</td>\n",
       "    </tr>\n",
       "    <tr>\n",
       "      <th>4427</th>\n",
       "      <td>Albert</td>\n",
       "      <td>Pujols</td>\n",
       "      <td>2001-04-02</td>\n",
       "      <td>0.733333</td>\n",
       "      <td>2015-10-04</td>\n",
       "      <td>11</td>\n",
       "      <td>15.0</td>\n",
       "      <td>0.327307</td>\n",
       "      <td>0.039340</td>\n",
       "    </tr>\n",
       "    <tr>\n",
       "      <th>984</th>\n",
       "      <td>Will</td>\n",
       "      <td>Clark</td>\n",
       "      <td>1986-04-08</td>\n",
       "      <td>0.733333</td>\n",
       "      <td>2000-10-01</td>\n",
       "      <td>11</td>\n",
       "      <td>15.0</td>\n",
       "      <td>0.314661</td>\n",
       "      <td>0.019994</td>\n",
       "    </tr>\n",
       "  </tbody>\n",
       "</table>\n",
       "</div>"
      ],
      "text/plain": [
       "     name_first  name_last       debut  percent_of_greatness  final_game  \\\n",
       "3007       John       Kruk  1986-04-07              0.900000  1995-07-30   \n",
       "5656       Joey      Votto  2007-09-04              0.888889  2015-10-04   \n",
       "2127   Vladimir   Guerrero  1996-09-19              0.875000  2011-09-28   \n",
       "4423      Kirby    Puckett  1984-05-08              0.833333  1995-09-28   \n",
       "2072       Mike  Greenwell  1985-09-05              0.833333  1996-09-28   \n",
       "4099    Magglio    Ordonez  1997-08-29              0.800000  2011-09-27   \n",
       "4477      Manny    Ramirez  1993-09-02              0.789474  2011-04-06   \n",
       "488       Barry      Bonds  1986-05-30              0.772727  2007-09-26   \n",
       "765      Miguel    Cabrera  2003-06-20              0.769231  2015-10-03   \n",
       "3473        Joe      Mauer  2004-04-05              0.750000  2015-10-03   \n",
       "2494       Matt   Holliday  2004-04-16              0.750000  2015-10-04   \n",
       "4391      Dante     Powell  1997-04-15              0.750000  2001-10-07   \n",
       "5336     Ichiro     Suzuki  2001-04-02              0.733333  2015-10-04   \n",
       "4427     Albert     Pujols  2001-04-02              0.733333  2015-10-04   \n",
       "984        Will      Clark  1986-04-08              0.733333  2000-10-01   \n",
       "\n",
       "      great_years_amount  years_active  career_batting_percentage  \\\n",
       "3007                   9          10.0                   0.308694   \n",
       "5656                   8           9.0                   0.319346   \n",
       "2127                  14          16.0                   0.322487   \n",
       "4423                  10          12.0                   0.324110   \n",
       "2072                  10          12.0                   0.307466   \n",
       "4099                  12          15.0                   0.310031   \n",
       "4477                  15          19.0                   0.306233   \n",
       "488                   17          22.0                   0.331599   \n",
       "765                   10          13.0                   0.332084   \n",
       "3473                   9          12.0                   0.319787   \n",
       "2494                   9          12.0                   0.316610   \n",
       "4391                   3           4.0                   0.325256   \n",
       "5336                  11          15.0                   0.319581   \n",
       "4427                  11          15.0                   0.327307   \n",
       "984                   11          15.0                   0.314661   \n",
       "\n",
       "      career_batting_std  \n",
       "3007            0.023870  \n",
       "5656            0.026748  \n",
       "2127            0.042367  \n",
       "4423            0.021004  \n",
       "2072            0.028342  \n",
       "4099            0.023614  \n",
       "4477            0.078929  \n",
       "488             0.070262  \n",
       "765             0.028398  \n",
       "3473            0.030910  \n",
       "2494            0.024958  \n",
       "4391            0.139306  \n",
       "5336            0.041442  \n",
       "4427            0.039340  \n",
       "984             0.019994  "
      ]
     },
     "execution_count": 25,
     "metadata": {},
     "output_type": "execute_result"
    }
   ],
   "source": [
    "data[:15]"
   ]
  },
  {
   "cell_type": "code",
   "execution_count": 23,
   "metadata": {
    "collapsed": false
   },
   "outputs": [
    {
     "data": {
      "text/plain": [
       "0.72636363636363721"
      ]
     },
     "execution_count": 23,
     "metadata": {},
     "output_type": "execute_result"
    }
   ],
   "source": [
    "np.nanpercentile(np.array(data['percent_of_greatness']), 99)"
   ]
  },
  {
   "cell_type": "markdown",
   "metadata": {},
   "source": [
    "# These players constitute the top .7% of the league for the last 30 years."
   ]
  },
  {
   "cell_type": "code",
   "execution_count": 27,
   "metadata": {
    "collapsed": false
   },
   "outputs": [
    {
     "data": {
      "text/plain": [
       "0.88184722222222445"
      ]
     },
     "execution_count": 27,
     "metadata": {},
     "output_type": "execute_result"
    }
   ],
   "source": [
    "np.nanpercentile(np.array(data['percent_of_greatness']), 99.9)"
   ]
  },
  {
   "cell_type": "markdown",
   "metadata": {},
   "source": [
    "# The top two players constitute the top .1% of the league in the last 30 years!"
   ]
  },
  {
   "cell_type": "code",
   "execution_count": 29,
   "metadata": {
    "collapsed": false
   },
   "outputs": [
    {
     "data": {
      "image/png": "[encoded data removed]",
      "text/plain": [
       "<matplotlib.figure.Figure at 0x10dc33da0>"
      ]
     },
     "metadata": {},
     "output_type": "display_data"
    }
   ],
   "source": [
    "rcParams['figure.figsize'] = 15, 5\n",
    "x = np.array(list(range(70)))\n",
    "plt.xticks(x, np.array(data['name_last'][:70]), rotation='vertical')\n",
    "#plt.plot(x, y)\n",
    "plt.bar(x, np.array(data['percent_of_greatness'][:70]), color = 'red' )\n",
    "plt.show()"
   ]
  },
  {
   "cell_type": "code",
   "execution_count": null,
   "metadata": {
    "collapsed": true
   },
   "outputs": [],
   "source": []
  }
 ],
 "metadata": {
  "kernelspec": {
   "display_name": "Python 3",
   "language": "python",
   "name": "python3"
  },
  "language_info": {
   "codemirror_mode": {
    "name": "ipython",
    "version": 3
   },
   "file_extension": ".py",
   "mimetype": "text/x-python",
   "name": "python",
   "nbconvert_exporter": "python",
   "pygments_lexer": "ipython3",
   "version": "3.4.1"
  }
 },
 "nbformat": 4,
 "nbformat_minor": 0
}
